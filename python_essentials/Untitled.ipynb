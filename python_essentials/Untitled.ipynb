{
 "cells": [
  {
   "cell_type": "code",
   "execution_count": 5,
   "id": "1664a4ac",
   "metadata": {},
   "outputs": [],
   "source": [
    "# single inheritance"
   ]
  },
  {
   "cell_type": "code",
   "execution_count": 19,
   "id": "4f86da0f",
   "metadata": {},
   "outputs": [
    {
     "name": "stdout",
     "output_type": "stream",
     "text": [
      "Lion roaring\n",
      "Animal Speaking\n"
     ]
    }
   ],
   "source": [
    "class Animal:\n",
    "    def speak(self):\n",
    "        print(\"Animal Speaking\")\n",
    "#child class Lion inherits the base class Animal\n",
    "class Lion(Animal):\n",
    "    def roar(self):\n",
    "        print(\"Lion roaring\")\n",
    "d = Lion()\n",
    "d.roar()\n",
    "d.speak()"
   ]
  },
  {
   "cell_type": "code",
   "execution_count": 22,
   "id": "16016136",
   "metadata": {},
   "outputs": [],
   "source": [
    "#Multiple Inheritance"
   ]
  },
  {
   "cell_type": "code",
   "execution_count": 36,
   "id": "cf7a2797",
   "metadata": {},
   "outputs": [
    {
     "name": "stdout",
     "output_type": "stream",
     "text": [
      "6\n",
      "8\n",
      "0.5\n"
     ]
    }
   ],
   "source": [
    "class Calculation1:\n",
    "    def Addition(self,x,y):\n",
    "        return x+y;\n",
    "class Calculation2:\n",
    "    def Multiplication(self,x,y):\n",
    "        return x*y;\n",
    "class Derived(Calculation1,Calculation2):\n",
    "    def Division(self,x,y):\n",
    "        return x/y;\n",
    "d = Derived()\n",
    "print(d.Addition(2,4))\n",
    "print(d.Multiplication(2,4))\n",
    "print(d.Division(2,4))"
   ]
  },
  {
   "cell_type": "code",
   "execution_count": 37,
   "id": "3c51131d",
   "metadata": {},
   "outputs": [],
   "source": [
    "#Multilevel Inheritance"
   ]
  },
  {
   "cell_type": "code",
   "execution_count": 44,
   "id": "a647318a",
   "metadata": {},
   "outputs": [
    {
     "name": "stdout",
     "output_type": "stream",
     "text": [
      "Lion roaring\n",
      "Animal Speaking\n",
      "Eating meat...\n"
     ]
    }
   ],
   "source": [
    "class Animal:\n",
    "    def speak(self):\n",
    "        print(\"Animal Speaking\")\n",
    "#The child class Lion inherits the base class Animal\n",
    "class Lion(Animal):\n",
    "    def roar(self):\n",
    "        print(\"Lion roaring\")\n",
    "#The child class BabyLion inherits another child class Lion\n",
    "class BabyLion(Lion):\n",
    "    def eat(self):\n",
    "        print(\"Eating meat...\")\n",
    "d = BabyLion()\n",
    "d.roar()\n",
    "d.speak()\n",
    "d.eat()"
   ]
  },
  {
   "cell_type": "code",
   "execution_count": null,
   "id": "ef8ded22",
   "metadata": {},
   "outputs": [],
   "source": []
  }
 ],
 "metadata": {
  "kernelspec": {
   "display_name": "Python 3 (ipykernel)",
   "language": "python",
   "name": "python3"
  },
  "language_info": {
   "codemirror_mode": {
    "name": "ipython",
    "version": 3
   },
   "file_extension": ".py",
   "mimetype": "text/x-python",
   "name": "python",
   "nbconvert_exporter": "python",
   "pygments_lexer": "ipython3",
   "version": "3.11.5"
  }
 },
 "nbformat": 4,
 "nbformat_minor": 5
}
