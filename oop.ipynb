{
 "cells": [
  {
   "cell_type": "code",
   "execution_count": 40,
   "id": "9d792636",
   "metadata": {},
   "outputs": [],
   "source": [
    "class Bank_Account:\n",
    "    def __init__(self, Account_no, Name, Balance, Widhdrawals,Payments):\n",
    "        \n",
    "        self.Account_no = Account_no\n",
    "        self.Name = Name\n",
    "        self.Balance = Balance\n",
    "        self.Widhdrwals = Widhdrawals\n",
    "        self.Payments = Payments\n",
    "    def info(self):\n",
    "        print(f\"hello my name is {self.Name}\")\n",
    "Account001 = Bank_Account(\"1020\",\"Shukri\",\"400000\",\"10000\", \"11000\")"
   ]
  },
  {
   "cell_type": "code",
   "execution_count": 41,
   "id": "79f69b0f",
   "metadata": {},
   "outputs": [
    {
     "data": {
      "text/plain": [
       "'Shukri'"
      ]
     },
     "execution_count": 41,
     "metadata": {},
     "output_type": "execute_result"
    }
   ],
   "source": [
    "Account001.Name"
   ]
  },
  {
   "cell_type": "code",
   "execution_count": 31,
   "id": "8cdbe5ba",
   "metadata": {},
   "outputs": [
    {
     "name": "stdout",
     "output_type": "stream",
     "text": [
      "The Account1020 belongs to Shukri\n"
     ]
    }
   ],
   "source": [
    "print(f\"The Account{Account001.Account_no} belongs to {Account001.Name}\" )"
   ]
  },
  {
   "cell_type": "code",
   "execution_count": 43,
   "id": "b53bd4a3",
   "metadata": {},
   "outputs": [
    {
     "name": "stdout",
     "output_type": "stream",
     "text": [
      "hello my name is Shukri\n"
     ]
    }
   ],
   "source": [
    "Account001.info()"
   ]
  },
  {
   "cell_type": "code",
   "execution_count": 44,
   "id": "971a6084",
   "metadata": {},
   "outputs": [],
   "source": [
    "Account001.Name = \"Titus\""
   ]
  },
  {
   "cell_type": "code",
   "execution_count": 45,
   "id": "14981437",
   "metadata": {},
   "outputs": [
    {
     "data": {
      "text/plain": [
       "'Titus'"
      ]
     },
     "execution_count": 45,
     "metadata": {},
     "output_type": "execute_result"
    }
   ],
   "source": [
    "Account001.Name"
   ]
  },
  {
   "cell_type": "code",
   "execution_count": 46,
   "id": "a275836e",
   "metadata": {},
   "outputs": [],
   "source": [
    "#Inheritance (Parent_class and child_class)"
   ]
  },
  {
   "cell_type": "code",
   "execution_count": 49,
   "id": "b5d96191",
   "metadata": {},
   "outputs": [],
   "source": [
    "class Car:\n",
    "    def __init__(self,Brand, colour, price):\n",
    "        self.Brand = Brand\n",
    "        self.colour = colour\n",
    "        \n",
    "car1 = Car('Benz','black', '3.5m')\n",
    "    "
   ]
  },
  {
   "cell_type": "code",
   "execution_count": null,
   "id": "858c6d88",
   "metadata": {},
   "outputs": [],
   "source": []
  },
  {
   "cell_type": "code",
   "execution_count": 51,
   "id": "f0a7eb2f",
   "metadata": {},
   "outputs": [],
   "source": [
    "class Benz (Car):\n",
    "   pass"
   ]
  },
  {
   "cell_type": "code",
   "execution_count": 62,
   "id": "b5a8e4c4",
   "metadata": {},
   "outputs": [],
   "source": [
    "class savings(Bank_Account):\n",
    "    def showcase(self):\n",
    "        print(\"savings\")\n",
    "saving1 = savings(\"1020\",\"willium\",\"400000\",\"10000\", \"11000\")"
   ]
  },
  {
   "cell_type": "code",
   "execution_count": 63,
   "id": "13b9023c",
   "metadata": {},
   "outputs": [
    {
     "data": {
      "text/plain": [
       "'willium'"
      ]
     },
     "execution_count": 63,
     "metadata": {},
     "output_type": "execute_result"
    }
   ],
   "source": [
    "saving1.Name"
   ]
  },
  {
   "cell_type": "code",
   "execution_count": 81,
   "id": "4134e09e",
   "metadata": {},
   "outputs": [],
   "source": [
    "class savings(Bank_Account):\n",
    "    def __init__(self, Account_no, Name, Balance, Widhdrawals,Payments,monthly_amount):\n",
    "        self.monthly_saving = monthly_saving\n",
    "        Bank_Account.__init__ (self, Account_no, Name, Balance, Widhdrawals,Payments)\n",
    "    \n",
    "    def monthly_saving(self):\n",
    "        print(\"My monthly saving is\", self.monthly_saving)"
   ]
  },
  {
   "cell_type": "code",
   "execution_count": null,
   "id": "4bcf6753",
   "metadata": {},
   "outputs": [],
   "source": []
  },
  {
   "cell_type": "code",
   "execution_count": null,
   "id": "8bf47a5d",
   "metadata": {},
   "outputs": [],
   "source": []
  }
 ],
 "metadata": {
  "kernelspec": {
   "display_name": "Python 3 (ipykernel)",
   "language": "python",
   "name": "python3"
  },
  "language_info": {
   "codemirror_mode": {
    "name": "ipython",
    "version": 3
   },
   "file_extension": ".py",
   "mimetype": "text/x-python",
   "name": "python",
   "nbconvert_exporter": "python",
   "pygments_lexer": "ipython3",
   "version": "3.11.5"
  }
 },
 "nbformat": 4,
 "nbformat_minor": 5
}
