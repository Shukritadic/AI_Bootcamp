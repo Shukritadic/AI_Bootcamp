{
 "cells": [
  {
   "cell_type": "code",
   "execution_count": 31,
   "id": "5e028b4c",
   "metadata": {},
   "outputs": [],
   "source": [
    "import numpy as np\n",
    "import statistics as st"
   ]
  },
  {
   "cell_type": "code",
   "execution_count": 32,
   "id": "8ce7d2ff",
   "metadata": {},
   "outputs": [
    {
     "name": "stdout",
     "output_type": "stream",
     "text": [
      "[  10   15   28  111    7    1 2000  300   50   70]\n"
     ]
    }
   ],
   "source": [
    "x=np.array([10,15,28,111,7,1,2000,300,50,70])\n",
    "print(x)"
   ]
  },
  {
   "cell_type": "code",
   "execution_count": null,
   "id": "e4b804ec",
   "metadata": {},
   "outputs": [],
   "source": [
    "#calculating standard deviation"
   ]
  },
  {
   "cell_type": "code",
   "execution_count": 23,
   "id": "a1c26de6",
   "metadata": {},
   "outputs": [
    {
     "name": "stdout",
     "output_type": "stream",
     "text": [
      "559.2646884396843\n"
     ]
    }
   ],
   "source": [
    "z=np.std(x)\n",
    "print(z)"
   ]
  },
  {
   "cell_type": "code",
   "execution_count": null,
   "id": "6d1a9f1a",
   "metadata": {},
   "outputs": [],
   "source": [
    "#calculating mimimum value"
   ]
  },
  {
   "cell_type": "code",
   "execution_count": 15,
   "id": "3fb7e7a4",
   "metadata": {},
   "outputs": [
    {
     "name": "stdout",
     "output_type": "stream",
     "text": [
      "1\n"
     ]
    }
   ],
   "source": [
    "print(np.min(x))"
   ]
  },
  {
   "cell_type": "code",
   "execution_count": null,
   "id": "5f1764f3",
   "metadata": {},
   "outputs": [],
   "source": [
    "#calculating maximum value"
   ]
  },
  {
   "cell_type": "code",
   "execution_count": 16,
   "id": "73429d35",
   "metadata": {},
   "outputs": [
    {
     "name": "stdout",
     "output_type": "stream",
     "text": [
      "2000\n"
     ]
    }
   ],
   "source": [
    "print(np.max(x))"
   ]
  },
  {
   "cell_type": "code",
   "execution_count": null,
   "id": "524ee37c",
   "metadata": {},
   "outputs": [],
   "source": [
    "#calculating variance"
   ]
  },
  {
   "cell_type": "code",
   "execution_count": 17,
   "id": "eeadd85e",
   "metadata": {},
   "outputs": [
    {
     "name": "stdout",
     "output_type": "stream",
     "text": [
      "343903.36\n"
     ]
    }
   ],
   "source": [
    "print(np.var(x))"
   ]
  },
  {
   "cell_type": "code",
   "execution_count": 18,
   "id": "9ddb861b",
   "metadata": {},
   "outputs": [],
   "source": [
    "#calcualting the mean"
   ]
  },
  {
   "cell_type": "code",
   "execution_count": null,
   "id": "24d767a7",
   "metadata": {},
   "outputs": [],
   "source": []
  },
  {
   "cell_type": "code",
   "execution_count": 29,
   "id": "46e26e1b",
   "metadata": {},
   "outputs": [
    {
     "name": "stdout",
     "output_type": "stream",
     "text": [
      "259.2\n"
     ]
    }
   ],
   "source": [
    "print(np.mean(x))"
   ]
  },
  {
   "cell_type": "code",
   "execution_count": null,
   "id": "eaeabddd",
   "metadata": {},
   "outputs": [],
   "source": [
    "#calculating the median"
   ]
  },
  {
   "cell_type": "code",
   "execution_count": 20,
   "id": "da46268c",
   "metadata": {},
   "outputs": [
    {
     "name": "stdout",
     "output_type": "stream",
     "text": [
      "39.0\n"
     ]
    }
   ],
   "source": [
    "print(np.median(x))"
   ]
  },
  {
   "cell_type": "code",
   "execution_count": null,
   "id": "55685dd3",
   "metadata": {},
   "outputs": [],
   "source": [
    "#calculating the mode"
   ]
  },
  {
   "cell_type": "code",
   "execution_count": 30,
   "id": "486c82fa",
   "metadata": {},
   "outputs": [
    {
     "name": "stdout",
     "output_type": "stream",
     "text": [
      "10\n"
     ]
    }
   ],
   "source": [
    "print(st.mode(x))"
   ]
  },
  {
   "cell_type": "code",
   "execution_count": null,
   "id": "56c828f2",
   "metadata": {},
   "outputs": [],
   "source": []
  }
 ],
 "metadata": {
  "kernelspec": {
   "display_name": "Python 3 (ipykernel)",
   "language": "python",
   "name": "python3"
  },
  "language_info": {
   "codemirror_mode": {
    "name": "ipython",
    "version": 3
   },
   "file_extension": ".py",
   "mimetype": "text/x-python",
   "name": "python",
   "nbconvert_exporter": "python",
   "pygments_lexer": "ipython3",
   "version": "3.11.5"
  }
 },
 "nbformat": 4,
 "nbformat_minor": 5
}
