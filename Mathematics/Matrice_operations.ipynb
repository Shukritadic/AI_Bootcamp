{
 "cells": [
  {
   "cell_type": "code",
   "execution_count": 1,
   "id": "b47a10dd",
   "metadata": {},
   "outputs": [],
   "source": [
    "import numpy as np"
   ]
  },
  {
   "cell_type": "code",
   "execution_count": 9,
   "id": "6984e09c",
   "metadata": {},
   "outputs": [],
   "source": [
    "x = np.array([[2,3,4],[4,8,9]])\n",
    "y =np.array([[2,4,6],[1,2,9]])"
   ]
  },
  {
   "cell_type": "code",
   "execution_count": 6,
   "id": "ae2c61cc",
   "metadata": {},
   "outputs": [
    {
     "name": "stdout",
     "output_type": "stream",
     "text": [
      "[[2 3 4]\n",
      " [4 8 9]]\n"
     ]
    }
   ],
   "source": [
    "print(x)"
   ]
  },
  {
   "cell_type": "code",
   "execution_count": 25,
   "id": "ac9f5142",
   "metadata": {},
   "outputs": [
    {
     "name": "stdout",
     "output_type": "stream",
     "text": [
      "[[2 4 6]\n",
      " [1 2 9]]\n"
     ]
    }
   ],
   "source": [
    "print(y)"
   ]
  },
  {
   "cell_type": "code",
   "execution_count": 8,
   "id": "abfbd5f9",
   "metadata": {},
   "outputs": [
    {
     "data": {
      "text/plain": [
       "array([[2, 4],\n",
       "       [3, 8],\n",
       "       [4, 9]])"
      ]
     },
     "execution_count": 8,
     "metadata": {},
     "output_type": "execute_result"
    }
   ],
   "source": [
    "x. transpose()"
   ]
  },
  {
   "cell_type": "code",
   "execution_count": 11,
   "id": "4d5196d6",
   "metadata": {},
   "outputs": [],
   "source": [
    "z=np.multiply(x,y)"
   ]
  },
  {
   "cell_type": "code",
   "execution_count": 12,
   "id": "b4d627a0",
   "metadata": {},
   "outputs": [
    {
     "name": "stdout",
     "output_type": "stream",
     "text": [
      "[[ 4 12 24]\n",
      " [ 4 16 81]]\n"
     ]
    }
   ],
   "source": [
    "print(z)"
   ]
  },
  {
   "cell_type": "code",
   "execution_count": 21,
   "id": "2851d41b",
   "metadata": {},
   "outputs": [],
   "source": [
    "# multiplying by scalar matrix \n",
    "#You have to innitialize the scalar"
   ]
  },
  {
   "cell_type": "code",
   "execution_count": 19,
   "id": "d93af13a",
   "metadata": {},
   "outputs": [],
   "source": [
    "b= 2\n",
    "k=np.multiply(b,x)"
   ]
  },
  {
   "cell_type": "code",
   "execution_count": 20,
   "id": "f2fca453",
   "metadata": {},
   "outputs": [
    {
     "name": "stdout",
     "output_type": "stream",
     "text": [
      "[[ 4  6  8]\n",
      " [ 8 16 18]]\n"
     ]
    }
   ],
   "source": [
    "print(k)"
   ]
  },
  {
   "cell_type": "code",
   "execution_count": 22,
   "id": "5d201d4e",
   "metadata": {},
   "outputs": [],
   "source": [
    "# Addition"
   ]
  },
  {
   "cell_type": "code",
   "execution_count": 23,
   "id": "a9dc61d5",
   "metadata": {},
   "outputs": [],
   "source": [
    "A = np.add(x,y)"
   ]
  },
  {
   "cell_type": "code",
   "execution_count": 24,
   "id": "082d8441",
   "metadata": {},
   "outputs": [
    {
     "name": "stdout",
     "output_type": "stream",
     "text": [
      "[[ 4  7 10]\n",
      " [ 5 10 18]]\n"
     ]
    }
   ],
   "source": [
    "print(A)"
   ]
  },
  {
   "cell_type": "code",
   "execution_count": 26,
   "id": "8f8476bd",
   "metadata": {},
   "outputs": [],
   "source": [
    "#Substraction of matrices , NOT commutative"
   ]
  },
  {
   "cell_type": "code",
   "execution_count": 31,
   "id": "12129222",
   "metadata": {},
   "outputs": [],
   "source": [
    "v= np.subtract(x,y)"
   ]
  },
  {
   "cell_type": "code",
   "execution_count": 30,
   "id": "533adb34",
   "metadata": {},
   "outputs": [
    {
     "name": "stdout",
     "output_type": "stream",
     "text": [
      "[[ 0 -1 -2]\n",
      " [ 3  6  0]]\n"
     ]
    }
   ],
   "source": [
    "print(v)"
   ]
  },
  {
   "cell_type": "code",
   "execution_count": null,
   "id": "c41df8b9",
   "metadata": {},
   "outputs": [],
   "source": []
  }
 ],
 "metadata": {
  "kernelspec": {
   "display_name": "Python 3 (ipykernel)",
   "language": "python",
   "name": "python3"
  },
  "language_info": {
   "codemirror_mode": {
    "name": "ipython",
    "version": 3
   },
   "file_extension": ".py",
   "mimetype": "text/x-python",
   "name": "python",
   "nbconvert_exporter": "python",
   "pygments_lexer": "ipython3",
   "version": "3.11.5"
  }
 },
 "nbformat": 4,
 "nbformat_minor": 5
}
