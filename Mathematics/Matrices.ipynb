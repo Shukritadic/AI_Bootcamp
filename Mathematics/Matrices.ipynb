{
 "cells": [
  {
   "cell_type": "code",
   "execution_count": 2,
   "id": "4f8755f0",
   "metadata": {},
   "outputs": [],
   "source": [
    "###Matrices"
   ]
  },
  {
   "cell_type": "code",
   "execution_count": null,
   "id": "29c2e145",
   "metadata": {},
   "outputs": [],
   "source": [
    "#matrix, a set of numbers arranged in rows and columns so as to form a rectangular array."
   ]
  },
  {
   "cell_type": "code",
   "execution_count": null,
   "id": "e80ea394",
   "metadata": {},
   "outputs": [],
   "source": [
    "#Example of a matrix"
   ]
  },
  {
   "cell_type": "code",
   "execution_count": 1,
   "id": "b84b4700",
   "metadata": {},
   "outputs": [
    {
     "name": "stdout",
     "output_type": "stream",
     "text": [
      "[[1 2 3]\n",
      " [3 4 5]]\n"
     ]
    }
   ],
   "source": [
    "import numpy as np\n",
    "\n",
    "A = np.array([[1, 2, 3], [3, 4, 5]])\n",
    "print(A)"
   ]
  },
  {
   "cell_type": "code",
   "execution_count": 3,
   "id": "2b819b75",
   "metadata": {},
   "outputs": [],
   "source": [
    "#Types of matrices"
   ]
  },
  {
   "cell_type": "code",
   "execution_count": 4,
   "id": "49dbea69",
   "metadata": {},
   "outputs": [],
   "source": [
    "#Square Matrix- has equal number of rows and collumns"
   ]
  },
  {
   "cell_type": "code",
   "execution_count": 5,
   "id": "54837ae6",
   "metadata": {},
   "outputs": [
    {
     "name": "stdout",
     "output_type": "stream",
     "text": [
      "[[1 2 3]\n",
      " [3 4 5]]\n"
     ]
    }
   ],
   "source": [
    "\n",
    "A = np.array([[1, 2, 3], [3, 4, 5]])\n",
    "print(A)"
   ]
  },
  {
   "cell_type": "code",
   "execution_count": 6,
   "id": "64f94472",
   "metadata": {},
   "outputs": [],
   "source": [
    "#Identity Matrix- a matrix of order nxn such that each main diagonal element is equal to 1"
   ]
  },
  {
   "cell_type": "code",
   "execution_count": 10,
   "id": "e72b5993",
   "metadata": {},
   "outputs": [
    {
     "name": "stdout",
     "output_type": "stream",
     "text": [
      "[[1 0 0]\n",
      " [0 1 0]\n",
      " [0 0 1]]\n"
     ]
    }
   ],
   "source": [
    "\n",
    "x = np.array([[1, 0, 0], [0, 1, 0],[0, 0, 1]])\n",
    "print(x)"
   ]
  },
  {
   "cell_type": "code",
   "execution_count": 11,
   "id": "1da7197c",
   "metadata": {},
   "outputs": [],
   "source": [
    "#Zero Matrix"
   ]
  },
  {
   "cell_type": "code",
   "execution_count": 12,
   "id": "c9fe15c2",
   "metadata": {},
   "outputs": [
    {
     "name": "stdout",
     "output_type": "stream",
     "text": [
      "[[0 0 0]\n",
      " [0 0 0]\n",
      " [0 0 0]]\n"
     ]
    }
   ],
   "source": [
    "b = np.array([[0, 0, 0], [0, 0, 0],[0, 0, 0]])\n",
    "print(b)"
   ]
  },
  {
   "cell_type": "code",
   "execution_count": 13,
   "id": "7be507b1",
   "metadata": {},
   "outputs": [],
   "source": [
    "#Diagnol Matrix- All of-diganols entries are zero"
   ]
  },
  {
   "cell_type": "code",
   "execution_count": 20,
   "id": "b5ecaea4",
   "metadata": {},
   "outputs": [
    {
     "name": "stdout",
     "output_type": "stream",
     "text": [
      "[[9 0 0]\n",
      " [0 8 0]\n",
      " [0 0 1]]\n"
     ]
    }
   ],
   "source": [
    "b = np.array([[9, 0, 0], [0, 8, 0],[0, 0, 1]])\n",
    "print(b)"
   ]
  },
  {
   "cell_type": "code",
   "execution_count": 15,
   "id": "41114b4b",
   "metadata": {},
   "outputs": [],
   "source": [
    "#indexing Matrices- "
   ]
  },
  {
   "cell_type": "code",
   "execution_count": 21,
   "id": "21fd6dad",
   "metadata": {},
   "outputs": [
    {
     "data": {
      "text/plain": [
       "8"
      ]
     },
     "execution_count": 21,
     "metadata": {},
     "output_type": "execute_result"
    }
   ],
   "source": [
    "b[1][1]"
   ]
  },
  {
   "cell_type": "code",
   "execution_count": null,
   "id": "4a1ba146",
   "metadata": {},
   "outputs": [],
   "source": []
  }
 ],
 "metadata": {
  "kernelspec": {
   "display_name": "Python 3 (ipykernel)",
   "language": "python",
   "name": "python3"
  },
  "language_info": {
   "codemirror_mode": {
    "name": "ipython",
    "version": 3
   },
   "file_extension": ".py",
   "mimetype": "text/x-python",
   "name": "python",
   "nbconvert_exporter": "python",
   "pygments_lexer": "ipython3",
   "version": "3.11.5"
  }
 },
 "nbformat": 4,
 "nbformat_minor": 5
}
