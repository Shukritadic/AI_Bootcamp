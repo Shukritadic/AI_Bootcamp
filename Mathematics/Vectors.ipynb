{
 "cells": [
  {
   "cell_type": "code",
   "execution_count": 14,
   "id": "3b68ed4c",
   "metadata": {},
   "outputs": [],
   "source": [
    "import numpy as np"
   ]
  },
  {
   "cell_type": "code",
   "execution_count": 8,
   "id": "574341d0",
   "metadata": {},
   "outputs": [],
   "source": [
    "z= np.array([1,2,3])"
   ]
  },
  {
   "cell_type": "code",
   "execution_count": 10,
   "id": "0e49ced1",
   "metadata": {},
   "outputs": [
    {
     "name": "stdout",
     "output_type": "stream",
     "text": [
      "[1 2 3]\n"
     ]
    }
   ],
   "source": [
    "print(z)"
   ]
  },
  {
   "cell_type": "code",
   "execution_count": 17,
   "id": "7d648ea2",
   "metadata": {},
   "outputs": [],
   "source": [
    "f= np.array([2,4,16])"
   ]
  },
  {
   "cell_type": "code",
   "execution_count": 18,
   "id": "99c19882",
   "metadata": {},
   "outputs": [],
   "source": [
    "p=np.array([11,10,9])"
   ]
  },
  {
   "cell_type": "code",
   "execution_count": 20,
   "id": "009e6877",
   "metadata": {},
   "outputs": [
    {
     "data": {
      "text/plain": [
       "206"
      ]
     },
     "execution_count": 20,
     "metadata": {},
     "output_type": "execute_result"
    }
   ],
   "source": [
    "f.dot(p)"
   ]
  },
  {
   "cell_type": "code",
   "execution_count": 30,
   "id": "914b3918",
   "metadata": {},
   "outputs": [],
   "source": [
    "x= np.array([1,2,4,5,7])"
   ]
  },
  {
   "cell_type": "code",
   "execution_count": 34,
   "id": "0048167f",
   "metadata": {},
   "outputs": [],
   "source": [
    "y= np.array([1,2,3,4,6])"
   ]
  },
  {
   "cell_type": "code",
   "execution_count": 42,
   "id": "494c67d7",
   "metadata": {},
   "outputs": [
    {
     "data": {
      "text/plain": [
       "79"
      ]
     },
     "execution_count": 42,
     "metadata": {},
     "output_type": "execute_result"
    }
   ],
   "source": [
    "x.dot(y)"
   ]
  },
  {
   "cell_type": "code",
   "execution_count": null,
   "id": "cf4009c7",
   "metadata": {},
   "outputs": [],
   "source": [
    "#Indexing in arrays"
   ]
  },
  {
   "cell_type": "code",
   "execution_count": 50,
   "id": "bc64b842",
   "metadata": {},
   "outputs": [
    {
     "data": {
      "text/plain": [
       "3"
      ]
     },
     "execution_count": 50,
     "metadata": {},
     "output_type": "execute_result"
    }
   ],
   "source": [
    "y[2]"
   ]
  },
  {
   "cell_type": "code",
   "execution_count": 46,
   "id": "29323b35",
   "metadata": {},
   "outputs": [],
   "source": []
  },
  {
   "cell_type": "code",
   "execution_count": null,
   "id": "50b0f72e",
   "metadata": {},
   "outputs": [],
   "source": []
  },
  {
   "cell_type": "code",
   "execution_count": 39,
   "id": "0c4d3f55",
   "metadata": {},
   "outputs": [],
   "source": [
    "a= np.array([1,2,4,5,7])"
   ]
  },
  {
   "cell_type": "code",
   "execution_count": 37,
   "id": "340fe35d",
   "metadata": {},
   "outputs": [],
   "source": [
    "b= np.array([1,2,3,4,6])"
   ]
  },
  {
   "cell_type": "code",
   "execution_count": null,
   "id": "a72a54b0",
   "metadata": {},
   "outputs": [],
   "source": [
    "# Find the dot product vector using @"
   ]
  },
  {
   "cell_type": "code",
   "execution_count": 41,
   "id": "4230ac35",
   "metadata": {},
   "outputs": [
    {
     "name": "stdout",
     "output_type": "stream",
     "text": [
      "79\n"
     ]
    }
   ],
   "source": [
    "print(a@b)"
   ]
  },
  {
   "cell_type": "code",
   "execution_count": 43,
   "id": "b654c37d",
   "metadata": {},
   "outputs": [],
   "source": [
    "# "
   ]
  },
  {
   "cell_type": "code",
   "execution_count": 45,
   "id": "7c9f04a9",
   "metadata": {},
   "outputs": [
    {
     "data": {
      "text/plain": [
       "79"
      ]
     },
     "execution_count": 45,
     "metadata": {},
     "output_type": "execute_result"
    }
   ],
   "source": [
    "np.dot(a,b)"
   ]
  },
  {
   "cell_type": "code",
   "execution_count": null,
   "id": "ce76145d",
   "metadata": {},
   "outputs": [],
   "source": []
  }
 ],
 "metadata": {
  "kernelspec": {
   "display_name": "Python 3 (ipykernel)",
   "language": "python",
   "name": "python3"
  },
  "language_info": {
   "codemirror_mode": {
    "name": "ipython",
    "version": 3
   },
   "file_extension": ".py",
   "mimetype": "text/x-python",
   "name": "python",
   "nbconvert_exporter": "python",
   "pygments_lexer": "ipython3",
   "version": "3.11.5"
  }
 },
 "nbformat": 4,
 "nbformat_minor": 5
}
