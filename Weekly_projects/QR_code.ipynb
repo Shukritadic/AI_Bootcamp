{
 "cells": [
  {
   "cell_type": "code",
   "execution_count": 8,
   "id": "4e09da3a",
   "metadata": {},
   "outputs": [],
   "source": [
    "import qrcode"
   ]
  },
  {
   "cell_type": "code",
   "execution_count": 15,
   "id": "29975a03",
   "metadata": {},
   "outputs": [],
   "source": [
    "qr = qrcode.QRCode(version=1, box_size=10, border=5)\n",
    "img = qrcode.make(\"Here are my contact details: PHONE: 070384206 , Email: shukritadicha@gmail.com\"\n",
    "                 )\n",
    "img.save(\"mycode.png\")"
   ]
  },
  {
   "cell_type": "code",
   "execution_count": null,
   "id": "4470eadc",
   "metadata": {},
   "outputs": [],
   "source": []
  },
  {
   "cell_type": "code",
   "execution_count": null,
   "id": "1e3a604b",
   "metadata": {},
   "outputs": [],
   "source": []
  }
 ],
 "metadata": {
  "kernelspec": {
   "display_name": "Python 3 (ipykernel)",
   "language": "python",
   "name": "python3"
  },
  "language_info": {
   "codemirror_mode": {
    "name": "ipython",
    "version": 3
   },
   "file_extension": ".py",
   "mimetype": "text/x-python",
   "name": "python",
   "nbconvert_exporter": "python",
   "pygments_lexer": "ipython3",
   "version": "3.11.5"
  }
 },
 "nbformat": 4,
 "nbformat_minor": 5
}
