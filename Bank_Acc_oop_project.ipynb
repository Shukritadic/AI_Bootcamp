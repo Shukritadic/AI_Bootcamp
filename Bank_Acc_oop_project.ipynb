{
 "cells": [
  {
   "cell_type": "code",
   "execution_count": 158,
   "id": "129b6e2a",
   "metadata": {},
   "outputs": [],
   "source": [
    "class Bank_Account:\n",
    "    def __init__(self, innitial_amount, Accname):\n",
    "        self.balance =int(innitial_amount)\n",
    "        self.name =str(Accname)\n",
    "    def getbalance(self):\n",
    "        print(f\"***Account balance****:{self.balance}\\n***Name****:{self.name}\")\n",
    "\n",
    "    def deposit(self,amount):\n",
    "        self.balance  = self.balance + amount\n",
    "        print(\"deposit complete\")\n",
    "        self.getbalance()\n",
    "    def withdraw(self, amount):\n",
    "        if self.balance >= amount:\n",
    "            self.balance -= amount\n",
    "            print(\"Withdrawal complete.\")\n",
    "            self.getbalance()\n",
    "        else:\n",
    "            print(\"Insufficient funds.\")\n",
    "        self.getbalance()\n",
    "        \n",
    "Shukri = Bank_Account('1000', 'shukri')\n",
    "Dave =Bank_Account('2000', 'Dave')\n"
   ]
  },
  {
   "cell_type": "code",
   "execution_count": 148,
   "id": "0ee1b1c4",
   "metadata": {},
   "outputs": [
    {
     "name": "stdout",
     "output_type": "stream",
     "text": [
      "***Account balance****:2000\n",
      "***Name****:Dave\n"
     ]
    }
   ],
   "source": [
    "Dave.getbalance()"
   ]
  },
  {
   "cell_type": "code",
   "execution_count": 149,
   "id": "92b6b039",
   "metadata": {},
   "outputs": [
    {
     "name": "stdout",
     "output_type": "stream",
     "text": [
      "deposit complete\n",
      "***Account balance****:1700\n",
      "***Name****:shukri\n"
     ]
    }
   ],
   "source": [
    " Shukri.deposit(700)"
   ]
  },
  {
   "cell_type": "code",
   "execution_count": 150,
   "id": "f0668b2a",
   "metadata": {},
   "outputs": [
    {
     "name": "stdout",
     "output_type": "stream",
     "text": [
      "deposit complete\n",
      "***Account balance****:11700\n",
      "***Name****:shukri\n"
     ]
    }
   ],
   "source": [
    "Shukri.deposit(10000)\n"
   ]
  },
  {
   "cell_type": "code",
   "execution_count": 151,
   "id": "0a5fbcb3",
   "metadata": {},
   "outputs": [
    {
     "name": "stdout",
     "output_type": "stream",
     "text": [
      "widhdrawal successful\n",
      "***Account balance****:11700\n",
      "***Name****:shukri\n"
     ]
    }
   ],
   "source": [
    "\n",
    "Shukri.widhdraw(200)"
   ]
  },
  {
   "cell_type": "code",
   "execution_count": 152,
   "id": "ed59b712",
   "metadata": {},
   "outputs": [
    {
     "name": "stdout",
     "output_type": "stream",
     "text": [
      "***Account balance****:11700\n",
      "***Name****:shukri\n"
     ]
    }
   ],
   "source": [
    "Shukri.getbalance()"
   ]
  },
  {
   "cell_type": "code",
   "execution_count": 153,
   "id": "4c229fd6",
   "metadata": {},
   "outputs": [
    {
     "name": "stdout",
     "output_type": "stream",
     "text": [
      "deposit complete\n",
      "***Account balance****:13700\n",
      "***Name****:shukri\n"
     ]
    }
   ],
   "source": [
    "Shukri.deposit(2000)"
   ]
  },
  {
   "cell_type": "code",
   "execution_count": 161,
   "id": "e4f57d22",
   "metadata": {},
   "outputs": [
    {
     "name": "stdout",
     "output_type": "stream",
     "text": [
      "Withdrawal complete.\n",
      "***Account balance****:600\n",
      "***Name****:shukri\n",
      "***Account balance****:600\n",
      "***Name****:shukri\n"
     ]
    }
   ],
   "source": [
    "Shukri.withdraw(200)"
   ]
  },
  {
   "cell_type": "code",
   "execution_count": null,
   "id": "538f42da",
   "metadata": {},
   "outputs": [],
   "source": []
  }
 ],
 "metadata": {
  "kernelspec": {
   "display_name": "Python 3 (ipykernel)",
   "language": "python",
   "name": "python3"
  },
  "language_info": {
   "codemirror_mode": {
    "name": "ipython",
    "version": 3
   },
   "file_extension": ".py",
   "mimetype": "text/x-python",
   "name": "python",
   "nbconvert_exporter": "python",
   "pygments_lexer": "ipython3",
   "version": "3.11.5"
  }
 },
 "nbformat": 4,
 "nbformat_minor": 5
}
